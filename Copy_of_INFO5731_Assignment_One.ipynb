{
  "nbformat": 4,
  "nbformat_minor": 0,
  "metadata": {
    "colab": {
      "name": "Copy of INFO5731_Assignment_One.ipynb",
      "provenance": [],
      "collapsed_sections": [],
      "include_colab_link": true
    },
    "kernelspec": {
      "name": "python3",
      "display_name": "Python 3"
    }
  },
  "cells": [
    {
      "cell_type": "markdown",
      "metadata": {
        "id": "view-in-github",
        "colab_type": "text"
      },
      "source": [
        "<a href=\"https://colab.research.google.com/github/akhilnooney/nooneyakhil-spring2020/blob/master/Copy_of_INFO5731_Assignment_One.ipynb\" target=\"_parent\"><img src=\"https://colab.research.google.com/assets/colab-badge.svg\" alt=\"Open In Colab\"/></a>"
      ]
    },
    {
      "cell_type": "markdown",
      "metadata": {
        "id": "Ryk8D1Q4Wsrp",
        "colab_type": "text"
      },
      "source": [
        "# **INFO5731 Assignment One**"
      ]
    },
    {
      "cell_type": "markdown",
      "metadata": {
        "id": "90_NR8c5XGWc",
        "colab_type": "text"
      },
      "source": [
        "# Question 1\n",
        "\n",
        "(20 points). Write a Python program to generate 12 random numbers between 1 and 100. Sort the list of numbers in ascending order and print it out. Sort the list of numbers in descending order and print it out. Calculate the average for the group and print it out."
      ]
    },
    {
      "cell_type": "code",
      "metadata": {
        "id": "5QX6bJjGWXY9",
        "colab_type": "code",
        "outputId": "74c40e48-e323-40ee-c178-e3a79bb4d528",
        "colab": {
          "base_uri": "https://localhost:8080/",
          "height": 69
        }
      },
      "source": [
        "# Your code here\n",
        "import numpy as np\n",
        "Random_list=np.random.randint(1,100,12)\n",
        "Ascending_order=np.sort(Random_list)\n",
        "print(f\"Ascending_order :{Ascending_order}\")\n",
        "Decending_order=Ascending_order[::-1]\n",
        "print(f\"Decending_order :{Decending_order}\")\n",
        "print(f\"Avg : {np.average(Ascending_order)}\")\n",
        "\n",
        "\n",
        "\n",
        "\n",
        "\n"
      ],
      "execution_count": 49,
      "outputs": [
        {
          "output_type": "stream",
          "text": [
            "Ascending_order :[22 25 47 49 64 72 75 77 80 87 92 98]\n",
            "Decending_order :[98 92 87 80 77 75 72 64 49 47 25 22]\n",
            "Avg : 65.66666666666667\n"
          ],
          "name": "stdout"
        }
      ]
    },
    {
      "cell_type": "markdown",
      "metadata": {
        "id": "1F_PZdH9Sh49",
        "colab_type": "text"
      },
      "source": [
        "# Question 2\n",
        "(25 points). Write a program that will do the following string formatting tasks:\n",
        "\n",
        "(1) Ask the user to enter two sentences.\n",
        "\n",
        "(2) Make each sentence into a list. Each element in the list should correspond to a word in the sentence. For example, if the sentence is \"Alas! Am I alive? This is my first python program\", the program should print out ['Alas, '!', 'Am', 'I', 'alive, '?', 'This', 'is', 'my', 'first', 'python', 'program'].\n",
        "\n",
        "(3) Compare the two sentences. Print out a list of words that occur in both sentences.\n",
        "\n",
        "(4) Remove any punctuation from the sentence and print it back out. It should remove at least the following characters, but it can remove more: period(“.”), comma (“,”), semicolon (“;”), and colon (“:”)\n",
        "\n",
        "(5) Count the number of vowels in the sentences. Print out each vowel and the number of times it appears in the sentences, such as: a:2, e:1, i:0, etc"
      ]
    },
    {
      "cell_type": "code",
      "metadata": {
        "id": "Y0oOSlsOS0cq",
        "colab_type": "code",
        "outputId": "adead293-8612-4478-f240-37f22bb2961c",
        "colab": {
          "base_uri": "https://localhost:8080/",
          "height": 243
        }
      },
      "source": [
        "# Your code here\n",
        "import re\n",
        "from collections import Counter\n",
        "import json\n",
        "def sentences(X,Y,Z):\n",
        "    same_words=[]\n",
        "    word_count_X=[]\n",
        "    word_count_Y=[]\n",
        "    #Sentence Split into list\n",
        "    x=re.compile(r'\\w+|[^\\w\\s]').findall(X)\n",
        "    y=re.compile(r'\\w+|[^\\w\\s]').findall(Y)\n",
        "    print()\n",
        "    print(f\"Sentence 1 split: {x}\")\n",
        "    print(f\"Sentence 2 split: {y}\")\n",
        "    print()\n",
        "    #Punctuations Removal\n",
        "    pun_1=re.sub(r'[^\\w\\s]','',X)\n",
        "    print(f\"Punctuations Clearence in 1st Sentence: {pun_1}\")\n",
        "    pun_2=re.sub(r'[^\\w\\s]','',Y)\n",
        "    print(f\"Punctuations Clearence in 2nd Sentence: {pun_2}\")\n",
        "    print()\n",
        "    #Common Words Check\n",
        "    common_1=pun_1.split(\" \")\n",
        "    common_2=pun_2.split(\" \")\n",
        "    for temp in common_1:\n",
        "      for temp2 in common_2:\n",
        "        if temp2==temp and temp2 not in same_words:\n",
        "          same_words.append(temp2)\n",
        "    print(f\"Common words :{same_words}\")\n",
        "    print()\n",
        "    #Vowels Count\n",
        "    for a in X:\n",
        "      if a in Z:\n",
        "        word_count_X.append(a)\n",
        "    print(f\"1st Sentence Vowels Count: {json.dumps(Counter(word_count_X))}\")\n",
        "    for b in Y:\n",
        "      if b in Z:\n",
        "        word_count_Y.append(b)\n",
        "    print(f\"2nd Sentence Vowels count: {json.dumps(Counter(word_count_Y))}\")\n",
        "sentence_one=str(input(\"Enter First Sentence: \"))\n",
        "sentence_two=str(input(\"Enter Second Sentence: \"))\n",
        "Vowels='aAeEiIoO'\n",
        "sentences(sentence_one,sentence_two,Vowels)\n"
      ],
      "execution_count": 52,
      "outputs": [
        {
          "output_type": "stream",
          "text": [
            "Enter First Sentence: This is akhil!! you are good.\n",
            "Enter Second Sentence: This is Teja? bye.\n",
            "\n",
            "Sentence 1 split: ['This', 'is', 'akhil', '!', '!', 'you', 'are', 'good', '.']\n",
            "Sentence 2 split: ['This', 'is', 'Teja', '?', 'bye', '.']\n",
            "\n",
            "Punctuations Clearence in 1st Sentence: This is akhil you are good\n",
            "Punctuations Clearence in 2nd Sentence: This is Teja bye\n",
            "\n",
            "Common words :['This', 'is']\n",
            "\n",
            "1st Sentence Vowels Count: {\"i\": 3, \"a\": 2, \"o\": 3, \"e\": 1}\n",
            "2nd Sentence Vowels count: {\"i\": 2, \"e\": 2, \"a\": 1}\n"
          ],
          "name": "stdout"
        }
      ]
    },
    {
      "cell_type": "markdown",
      "metadata": {
        "id": "CmFoI4jDS9nx",
        "colab_type": "text"
      },
      "source": [
        "# Question 3 \n",
        "\n",
        "(15 points). The formula that describes the volume V of a sphere with radius r is the following:\n",
        "\n",
        "$ V=\\frac{4}{3}\\ast\\ \\pi\\ast\\ r^3 $\n",
        "\n",
        "Write a program to calculate the value of V when r is in the range of 1–10. Output the result in the following format:\n",
        "\n",
        "\tr\tV\n",
        "\t1\t…\n",
        "\t2\t…\n",
        "\t3\t…\n"
      ]
    },
    {
      "cell_type": "code",
      "metadata": {
        "id": "pEyqeioAT95b",
        "colab_type": "code",
        "colab": {
          "base_uri": "https://localhost:8080/",
          "height": 208
        },
        "outputId": "9310e9f1-9fd6-4aa8-da11-b806fdcc012c"
      },
      "source": [
        "# Your code here\n",
        "import pandas as pd\n",
        "pi=3.14\n",
        "Values_V=[]\n",
        "R_numbers=[]\n",
        "for temp in range(1,11):\n",
        "  R_numbers.append(temp)\n",
        "  V=4/3*pi*(temp)**3\n",
        "  Values_V.append(V)\n",
        "Df=pd.DataFrame(R_numbers,columns=['r'])\n",
        "Df1=pd.DataFrame(Values_V,columns=['V'])\n",
        "final_df=pd.concat([Df,Df1],axis=1)\n",
        "print(final_df.to_string(index=False))\n",
        "\n"
      ],
      "execution_count": 53,
      "outputs": [
        {
          "output_type": "stream",
          "text": [
            "  r            V\n",
            "  1     4.186667\n",
            "  2    33.493333\n",
            "  3   113.040000\n",
            "  4   267.946667\n",
            "  5   523.333333\n",
            "  6   904.320000\n",
            "  7  1436.026667\n",
            "  8  2143.573333\n",
            "  9  3052.080000\n",
            " 10  4186.666667\n"
          ],
          "name": "stdout"
        }
      ]
    },
    {
      "cell_type": "code",
      "metadata": {
        "id": "pMCr3l8tnu0j",
        "colab_type": "code",
        "colab": {}
      },
      "source": [
        ""
      ],
      "execution_count": 0,
      "outputs": []
    },
    {
      "cell_type": "markdown",
      "metadata": {
        "id": "z3tBE7E-Xn5X",
        "colab_type": "text"
      },
      "source": [
        "# Question 4\n",
        "\n",
        "(40 points). In the field of Data Science, data is often formatted as a comma-delimited (CSV) file, where each line in a file corresponds to a field's value. Refer to Chapter 9 (p. 106) for more information on comma-delimited files. To answer this question, you will need to download the file [Assignment1_denton_housing.csv](https://github.com/unt-iialab/INFO5731_Spring2020/blob/master/Assignments/Assignment1_denton_housing.csv) included with this assignment. The [file Assignment1_denton_housing.csv](https://github.com/unt-iialab/INFO5731_Spring2020/blob/master/Assignments/Assignment1_denton_housing.csv) contains statistics about housing in the city of Denton from 2008 to 2014. Write a program to implement the following questions.\n",
        "\n",
        "(1) (10 pts) Calculate the difference in the number of Occupied Housing Units from year to year and print it. The difference must be calculated for the consecutive years such as 2008-2009, 2009-2010 etc. Finally, print the values in the ascending order.\n",
        "\n",
        "(2) (10 pts) For all the years, calculate the percentage of housing units which are vacant an occupied. Print the results in the following format:\n",
        "\n",
        "Year Vacant Housing Units Occupied Housing Units\n",
        "\n",
        "    2008  30%   70%                          \n",
        "\t2009 ----- -----\n",
        "\t2010 ----- -----\n",
        "    2011 ----- -----\n",
        "\t2012 ----- -----\n",
        "    2013 ----- -----\n",
        "\t2014 ----- -----\n",
        "  \n",
        "  \n",
        "\n",
        "(3) (10 pts) Calculate and print the valued and years in which the highest number of housing units were vacant and occupied. Print the results in the following format:  \n",
        "\n",
        "                              Year\tValue\n",
        "\tVacant Housing Units\t  -----   -----\n",
        "\tOccupied Housing Units\t-----   -----\n",
        "\n",
        "(4) (10 pts) Calculate the harmonic mean of the total housing units and print it out. You can find the information about harmonic mean here: https://ncalculators.com/statistics/harmonic-mean-calculator.htm"
      ]
    },
    {
      "cell_type": "code",
      "metadata": {
        "id": "lqGYuHBhcsRH",
        "colab_type": "code",
        "colab": {
          "base_uri": "https://localhost:8080/",
          "height": 139
        },
        "outputId": "efb540da-cd44-4867-d08d-fba3ad13154b"
      },
      "source": [
        "# Your code here\n",
        "import pandas as pd\n",
        "url=\"https://raw.githubusercontent.com/unt-iialab/INFO5731_Spring2020/master/Assignments/Assignment1_denton_housing.csv\"\n",
        "df=pd.read_csv(url)\n",
        "df=df[df['title_field']=='Occupied Housing Units']\n",
        "sorted_years=df.sort_values('year')\n",
        "final=sorted_years['value'].diff().sort_values()\n",
        "print(final.to_string(index=False))\n",
        "\n",
        "\n",
        "\n",
        "\n"
      ],
      "execution_count": 54,
      "outputs": [
        {
          "output_type": "stream",
          "text": [
            " -795.0\n",
            " -303.0\n",
            " 1404.0\n",
            " 1565.0\n",
            " 2622.0\n",
            " 5091.0\n",
            "    NaN\n"
          ],
          "name": "stdout"
        }
      ]
    },
    {
      "cell_type": "code",
      "metadata": {
        "id": "UATbHdNFy96p",
        "colab_type": "code",
        "colab": {
          "base_uri": "https://localhost:8080/",
          "height": 156
        },
        "outputId": "8f1988ff-ff04-4842-ef6c-1ab4af4fccf6"
      },
      "source": [
        "#Question 4.2\n",
        "import pandas as pd\n",
        "count=0\n",
        "count1=0\n",
        "frame1=[]\n",
        "frame2=[]\n",
        "url=\"https://raw.githubusercontent.com/unt-iialab/INFO5731_Spring2020/master/Assignments/Assignment1_denton_housing.csv\"\n",
        "df=pd.read_csv(url)\n",
        "df1=df[(df['title_field']=='Vacant Housing Units')].sort_values('year')['value'].tolist()\n",
        "df2=df[(df['title_field']=='Occupied Housing Units')].sort_values('year')['value'].tolist()\n",
        "df3=df[(df['title_field']=='Total Housing Units')].sort_values('year')\n",
        "for a in df3['value']:\n",
        "    percentage=(df1[count]/a)*100\n",
        "    count+=1\n",
        "    frame1.append(percentage)\n",
        "\n",
        "for b in df3['value']:\n",
        "    percentage_2=(df2[count1]/b)*100\n",
        "    count1+=1\n",
        "    frame2.append(percentage_2)\n",
        "Final_Df1=pd.DataFrame(frame1,columns=['Vacant Housing Units'])\n",
        "Final_Df2=pd.DataFrame(frame2,columns=['Occupied Housing Units'])\n",
        "final_data_frame=pd.concat([Final_Df1,Final_Df2],axis=1)\n",
        "final_data_frame=pd.concat([df3['year'].reset_index(),final_data_frame],axis=1)\n",
        "final_data_frame=final_data_frame[['year','Vacant Housing Units','Occupied Housing Units']]\n",
        "print(final_data_frame.to_string(index=False))\n",
        "\n",
        "\n",
        "\n"
      ],
      "execution_count": 55,
      "outputs": [
        {
          "output_type": "stream",
          "text": [
            " year  Vacant Housing Units  Occupied Housing Units\n",
            " 2008             10.882653               89.117347\n",
            " 2009              9.071116               90.928884\n",
            " 2010              8.142556               91.857444\n",
            " 2011              9.379522               90.620478\n",
            " 2012              6.677600               93.322400\n",
            " 2013              8.801788               91.198212\n",
            " 2014              5.730111               94.269889\n"
          ],
          "name": "stdout"
        }
      ]
    },
    {
      "cell_type": "code",
      "metadata": {
        "id": "RAjM1uok-1o0",
        "colab_type": "code",
        "colab": {
          "base_uri": "https://localhost:8080/",
          "height": 69
        },
        "outputId": "42303bfd-40e7-4f1a-c2c9-def56967eac8"
      },
      "source": [
        "#Question 4.3\n",
        "import pandas as pd\n",
        "url=\"https://raw.githubusercontent.com/unt-iialab/INFO5731_Spring2020/master/Assignments/Assignment1_denton_housing.csv\"\n",
        "df=pd.read_csv(url)\n",
        "df[df['title_field']=='Vacant Housing Units']\n",
        "Max_value=df.loc[df['title_field']=='Vacant Housing Units']\n",
        "Maximum=Max_value[Max_value.value==Max_value.value.max()]\n",
        "Max_value_1=df.loc[df['title_field']=='Occupied Housing Units']\n",
        "Minimum=Min_value[Max_value_1.value==Max_value_1.value.max()]\n",
        "df1=pd.concat([Maximum,Minimum])\n",
        "df1_final=df1[['title_field','year','value']]\n",
        "print(df1_final.to_string(index=False))\n"
      ],
      "execution_count": 56,
      "outputs": [
        {
          "output_type": "stream",
          "text": [
            "            title_field  year  value\n",
            "   Vacant Housing Units  2008   4483\n",
            " Occupied Housing Units  2014  46295\n"
          ],
          "name": "stdout"
        }
      ]
    },
    {
      "cell_type": "code",
      "metadata": {
        "id": "ft8foVmg_BLY",
        "colab_type": "code",
        "colab": {
          "base_uri": "https://localhost:8080/",
          "height": 35
        },
        "outputId": "c1084534-ac9d-4555-a7ee-39bbcf911093"
      },
      "source": [
        "#Question 4.4\n",
        "import pandas as pd\n",
        "from scipy import stats\n",
        "url=\"https://raw.githubusercontent.com/unt-iialab/INFO5731_Spring2020/master/Assignments/Assignment1_denton_housing.csv\"\n",
        "df=pd.read_csv(url)\n",
        "df=df[df['title_field']=='Total Housing Units']\n",
        "df_harmonic_mean=stats.hmean(df['value'])\n",
        "print(f\"Harmonic mean for total housing units: {df_harmonic_mean}\")\n",
        "\n",
        "\n"
      ],
      "execution_count": 57,
      "outputs": [
        {
          "output_type": "stream",
          "text": [
            "Harmonic mean for total housing units: 44398.28543969185\n"
          ],
          "name": "stdout"
        }
      ]
    }
  ]
}
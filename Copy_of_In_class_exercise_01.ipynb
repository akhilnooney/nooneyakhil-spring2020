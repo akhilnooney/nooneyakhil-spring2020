{
  "nbformat": 4,
  "nbformat_minor": 0,
  "metadata": {
    "colab": {
      "name": "Copy of In_class_exercise_01.ipynb",
      "provenance": [],
      "collapsed_sections": [],
      "include_colab_link": true
    },
    "kernelspec": {
      "name": "python3",
      "display_name": "Python 3"
    }
  },
  "cells": [
    {
      "cell_type": "markdown",
      "metadata": {
        "id": "view-in-github",
        "colab_type": "text"
      },
      "source": [
        "<a href=\"https://colab.research.google.com/github/akhilnooney/nooneyakhil-spring2020/blob/master/Copy_of_In_class_exercise_01.ipynb\" target=\"_parent\"><img src=\"https://colab.research.google.com/assets/colab-badge.svg\" alt=\"Open In Colab\"/></a>"
      ]
    },
    {
      "cell_type": "markdown",
      "metadata": {
        "id": "DymRJbxDBCnf",
        "colab_type": "text"
      },
      "source": [
        "# **The first In-class-exercise**"
      ]
    },
    {
      "cell_type": "markdown",
      "metadata": {
        "id": "03jb4GZsBkBS",
        "colab_type": "text"
      },
      "source": [
        "(1) Write a Python program to calculate the length of a string."
      ]
    },
    {
      "cell_type": "code",
      "metadata": {
        "id": "YaGLbSHHB8Ej",
        "colab_type": "code",
        "outputId": "9672782b-15c3-4ea7-8b00-b096f88ecaee",
        "colab": {
          "base_uri": "https://localhost:8080/",
          "height": 35
        }
      },
      "source": [
        "# write your answer here\n",
        "text=\"my name is akhil\"\n",
        "len(text)"
      ],
      "execution_count": 0,
      "outputs": [
        {
          "output_type": "execute_result",
          "data": {
            "text/plain": [
              "16"
            ]
          },
          "metadata": {
            "tags": []
          },
          "execution_count": 1
        }
      ]
    },
    {
      "cell_type": "markdown",
      "metadata": {
        "id": "jJDe71iLB616",
        "colab_type": "text"
      },
      "source": [
        "(2) Write a Python program to count the number of characters in a string.\n",
        "\n",
        "Sample String : 'google.com‘, \n",
        "\n",
        "Expected Result : {'o': 3, 'g': 2, '.': 1, 'e': 1, 'l': 1, 'm': 1, 'c': 1}"
      ]
    },
    {
      "cell_type": "code",
      "metadata": {
        "id": "MtKskTzbCLaU",
        "colab_type": "code",
        "outputId": "0d9244f0-7070-4556-dd44-1dec8a7a2878",
        "colab": {
          "base_uri": "https://localhost:8080/",
          "height": 35
        }
      },
      "source": [
        "# write your answer here\n",
        "def text(string):\n",
        "  dic={}\n",
        "  for a in string:\n",
        "      if a in dic:\n",
        "          dic[a]=dic[a]+1\n",
        "      else:\n",
        "          dic[a]=1\n",
        "  return dic\n",
        "text('google.com')"
      ],
      "execution_count": 0,
      "outputs": [
        {
          "output_type": "execute_result",
          "data": {
            "text/plain": [
              "{'.': 1, 'c': 1, 'e': 1, 'g': 2, 'l': 1, 'm': 1, 'o': 3}"
            ]
          },
          "metadata": {
            "tags": []
          },
          "execution_count": 14
        }
      ]
    },
    {
      "cell_type": "markdown",
      "metadata": {
        "id": "55W9AMdXCSpV",
        "colab_type": "text"
      },
      "source": [
        "(3) Write a Python program to sum all the items in a list"
      ]
    },
    {
      "cell_type": "code",
      "metadata": {
        "id": "I57NXsauCec2",
        "colab_type": "code",
        "outputId": "2b3f26d2-9420-4024-ffb2-43c385724bf8",
        "colab": {
          "base_uri": "https://localhost:8080/",
          "height": 35
        }
      },
      "source": [
        "# write your answer here\n",
        "x=0\n",
        "list1=[2,3,4,5,6,7,8]\n",
        "for a in list1:\n",
        "    x=a+x\n",
        "print(x)"
      ],
      "execution_count": 0,
      "outputs": [
        {
          "output_type": "stream",
          "text": [
            "35\n"
          ],
          "name": "stdout"
        }
      ]
    },
    {
      "cell_type": "markdown",
      "metadata": {
        "id": "4ulBZ6yhCi9F",
        "colab_type": "text"
      },
      "source": [
        "(4) Write a Python program to get a string from a given string where all occurrences of its first char have been changed to '\\$', except the first char itself. \n",
        "\n",
        "Sample String : 'restart‘, \n",
        "\n",
        "Expected Result : 'resta\\$t'"
      ]
    },
    {
      "cell_type": "code",
      "metadata": {
        "id": "Fj0XhwbBCw2o",
        "colab_type": "code",
        "outputId": "76cbc0e9-50b4-400d-f7cd-95bf2aaeecf1",
        "colab": {
          "base_uri": "https://localhost:8080/",
          "height": 35
        }
      },
      "source": [
        "# write your answer here\n",
        "string='restart'\n",
        "firstcarc=string[0]\n",
        "rep=string.replace(firstcarc,'$')\n",
        "final=firstcarc+rep[1:]\n",
        "print(final)\n",
        "\n",
        "\n",
        "    \n"
      ],
      "execution_count": 0,
      "outputs": [
        {
          "output_type": "stream",
          "text": [
            "resta$t\n"
          ],
          "name": "stdout"
        }
      ]
    },
    {
      "cell_type": "markdown",
      "metadata": {
        "id": "_bIP7s1MCzue",
        "colab_type": "text"
      },
      "source": [
        "(5) Write a program with python which could accept two parameter a and b to calculate and output the result of S, where \n",
        "\n",
        "$\\ S=3.14*(1+a/b)^3$\n",
        "\n"
      ]
    },
    {
      "cell_type": "code",
      "metadata": {
        "id": "w79QilHXD3Mg",
        "colab_type": "code",
        "outputId": "3731ad75-a582-49b0-871b-83b7416401d2",
        "colab": {
          "base_uri": "https://localhost:8080/",
          "height": 35
        }
      },
      "source": [
        "# write your answer here\n",
        "def parameter(a,b):\n",
        "  S=3.14*(1+(a/b))**3\n",
        "  return S\n",
        "parameter(3,4)"
      ],
      "execution_count": 0,
      "outputs": [
        {
          "output_type": "execute_result",
          "data": {
            "text/plain": [
              "16.8284375"
            ]
          },
          "metadata": {
            "tags": []
          },
          "execution_count": 21
        }
      ]
    },
    {
      "cell_type": "markdown",
      "metadata": {
        "id": "xCa2bK9aD4Q3",
        "colab_type": "text"
      },
      "source": [
        "(6) Write a Python program to concatenate following dictionaries to create a new one. \n",
        "\n",
        "Sample Dictionary : dic1={1:10, 2:20}, dic2={3:30, 4:40}, dic3={5:50,6:60}, \n",
        "\n",
        "Expected Result : {1: 10, 2: 20, 3: 30, 4: 40, 5: 50, 6: 60}\n"
      ]
    },
    {
      "cell_type": "code",
      "metadata": {
        "id": "_z4aLqAbEET1",
        "colab_type": "code",
        "outputId": "3c9492bc-6d87-445b-ab56-1da8e4ed10f8",
        "colab": {
          "base_uri": "https://localhost:8080/",
          "height": 35
        }
      },
      "source": [
        "# write your answer here\n",
        "dic1={1:10, 2:20}\n",
        "dic2={3:30, 4:40}\n",
        "dic3={5:50,6:60}\n",
        "dic1.update(dic2)\n",
        "dic1.update(dic3)\n",
        "print(dic1)"
      ],
      "execution_count": 0,
      "outputs": [
        {
          "output_type": "stream",
          "text": [
            "{1: 10, 2: 20, 3: 30, 4: 40, 5: 50, 6: 60}\n"
          ],
          "name": "stdout"
        }
      ]
    },
    {
      "cell_type": "markdown",
      "metadata": {
        "id": "0v48Vqa7FrQh",
        "colab_type": "text"
      },
      "source": [
        "(7) Write a Python program to check whether an element exists within a tuple."
      ]
    },
    {
      "cell_type": "code",
      "metadata": {
        "id": "7WEmgq-DF2P1",
        "colab_type": "code",
        "outputId": "82a1307c-66fc-409e-de7b-987b08da84e3",
        "colab": {
          "base_uri": "https://localhost:8080/",
          "height": 35
        }
      },
      "source": [
        "# write your answer here\n",
        "def numbercheck(n):\n",
        "  tup=(1,2,3,4,5)\n",
        "  if n in tup:\n",
        "    print(\"Element Exists\")\n",
        "  else:\n",
        "    print(\"Element not Exixts\")\n",
        "numbercheck(9)\n"
      ],
      "execution_count": 0,
      "outputs": [
        {
          "output_type": "stream",
          "text": [
            "Element not Exixts\n"
          ],
          "name": "stdout"
        }
      ]
    },
    {
      "cell_type": "markdown",
      "metadata": {
        "id": "vD5PYLMuGga_",
        "colab_type": "text"
      },
      "source": [
        "(8) Write a Python program to find maximum and the minimum value in a set. "
      ]
    },
    {
      "cell_type": "code",
      "metadata": {
        "id": "t0D5kdJUGjjw",
        "colab_type": "code",
        "outputId": "a1ae3340-03ae-4a57-facc-1a761e44a5b7",
        "colab": {
          "base_uri": "https://localhost:8080/",
          "height": 35
        }
      },
      "source": [
        "# write your answer here\n",
        "elements=set([1,2,3,4,5,6,7,8,9,10])\n",
        "print(f\"Maximum number : {max(elements)}, Minimum number : {min(elements)}\")\n"
      ],
      "execution_count": 0,
      "outputs": [
        {
          "output_type": "stream",
          "text": [
            "Maximum number : 10, Minimum number : 1\n"
          ],
          "name": "stdout"
        }
      ]
    },
    {
      "cell_type": "markdown",
      "metadata": {
        "id": "uHkd-y5VhVWC",
        "colab_type": "text"
      },
      "source": [
        "(9) Write a Python program to randomly divide the students in this class into four groups for term projects. Here is the students list:\n",
        "\n",
        "studnet_list = ['sa0753','laa0240','lba0043','pb0283','vmb0067','vcd0017','ag1121','lg0426','mj0396','ak0860','vk0222','vk0216',\n",
        "                'tpk0023','nk0327','mk0830','tbl0041','al0787','am1823','sm1515','km0738','hn0139','an0521','ap0975','dp1080',\n",
        "                'pk0292','vp0241','rp0477','hr0178','ps0501','ss1976','ss1872','ss1872','bs0490','pt0218','ry0104']"
      ]
    },
    {
      "cell_type": "code",
      "metadata": {
        "id": "3iGbmcOBhTwy",
        "colab_type": "code",
        "outputId": "e0912403-24d2-461c-87b8-a71877c942ee",
        "colab": {
          "base_uri": "https://localhost:8080/",
          "height": 87
        }
      },
      "source": [
        "# write your answer here\n",
        "import random\n",
        "list=[]\n",
        "studnet_list = ['sa0753','laa0240','lba0043','pb0283','vmb0067','vcd0017','ag1121','lg0426','mj0396','ak0860','vk0222','vk0216', \n",
        "                'tpk0023','nk0327','mk0830','tbl0041','al0787','am1823','sm1515','km0738','hn0139','an0521','ap0975','dp1080', 'pk0292',\n",
        "                'vp0241','rp0477','hr0178','ps0501','ss1976','ss1872','ss1872','bs0490','pt0218','ry0104']\n",
        "for i in range(4):\n",
        "    grouping=random.choices(studnet_list,k=6)\n",
        "    studnet_list=[a for a in studnet_list if a not in grouping]\n",
        "    print(\"Group\"+str(i+1)+\":\",grouping)\n",
        "\n",
        "      \n",
        "\n",
        "\n",
        "        \n",
        "\n",
        "\n",
        "\n"
      ],
      "execution_count": 0,
      "outputs": [
        {
          "output_type": "stream",
          "text": [
            "Group1: ['vcd0017', 'pb0283', 'pk0292', 'rp0477', 'sa0753', 'sm1515']\n",
            "Group2: ['vp0241', 'ps0501', 'vk0216', 'hr0178', 'al0787', 'laa0240']\n",
            "Group3: ['tbl0041', 'ry0104', 'mj0396', 'mk0830', 'tbl0041', 'ap0975']\n",
            "Group4: ['tpk0023', 'pt0218', 'lg0426', 'am1823', 'hn0139', 'ak0860']\n"
          ],
          "name": "stdout"
        }
      ]
    }
  ]
}